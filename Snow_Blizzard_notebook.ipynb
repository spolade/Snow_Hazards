{
 "cells": [
  {
   "cell_type": "markdown",
   "id": "1c901648",
   "metadata": {},
   "source": [
    "Risk workflow for snow and blizzard hazards"
   ]
  },
  {
   "cell_type": "markdown",
   "id": "06d65820",
   "metadata": {},
   "source": [
    "Blizzard"
   ]
  },
  {
   "cell_type": "markdown",
   "id": "0a4435f6",
   "metadata": {},
   "source": [
    "A blizzard is a severe storm condition defined by low temperature, sustained wind or frequent wind gust and considerable precipitating or blowing snow. For blizzard conditions we propose the use of following impact indicator: Tmean  ≤ 0 oC, Rs (snow amount) ≥ 10 cm and Wg (wind gust) ≥ 17 m/s ( Vajda et al., 2014). This impact indicator was defined taking into account the exposure of critical infrastructure, i.e., roads, rails, power lines, telecommunication to the hazard and is based on an extensive literature review, media reports, surveys conducted with European CI operators and case studies. \n",
    " Heavy snowfall may cause many disruptions and impacts in various sectors; however, the impacts and consequences of this hazard depend on the affected sector, infrastructure and also preparedness of society that varies over Europe.  For example, already a few centimeters of snow can disrupt road traffic, but doesn’t normally cause any harm to energy infrastructure. Many weather services have three warning levels based on the severity of expected impacts, which are typically different for different sectors of infrastructure. There is a large variation in the national warning criteria or thresholds."
   ]
  },
  {
   "cell_type": "markdown",
   "id": "0ceef2aa",
   "metadata": {},
   "source": [
    "Heavy Snow \n",
    " Similarly to blizzard, the impact indicators for heavy snowfall were defined taking into account the exposure of critical infrastructure, i.e., roads, rails, power lines, telecommunication to the hazard and is based on an extensive literature review, media reports, surveys conducted with European CI operators and case studies. The qualitative description of the two-level thresholds are:\n",
    " 1st threshold: Some adverse impacts are expected, their severity depends on the resilience of the system, transportation is mainly affected.\n",
    " 2nd threshold: The weather phenomena are so severe that is likely that adverse impact will occur, CI system is seriously impacted."
   ]
  },
  {
   "cell_type": "markdown",
   "id": "5037af31",
   "metadata": {},
   "source": [
    "This code calculates the Annual probability (%) of a blizzard and heavy snowfall during the specified period and a region of interest.\n",
    " Please note that we used ERA5-Land data here, which is locally stored. This daily dataset emanated from the hourly datasets available on the Climate Data Store."
   ]
  },
  {
   "cell_type": "markdown",
   "id": "55cb7b21",
   "metadata": {},
   "source": [
    "Load libraries"
   ]
  },
  {
   "cell_type": "code",
   "execution_count": null,
   "id": "da25af61",
   "metadata": {},
   "outputs": [],
   "source": [
    "import os\n",
    "from glob import glob\n",
    "import numpy as np\n",
    "import rasterio\n",
    "import xarray as xr\n",
    "import rioxarray as rxr\n",
    "import matplotlib as mpl\n",
    "import matplotlib.pyplot as plt\n",
    "import cartopy.crs as ccrs\n",
    "import cartopy.feature as cfeature\n",
    "import xclim as xc"
   ]
  },
  {
   "cell_type": "markdown",
   "id": "1ccb1ce5",
   "metadata": {},
   "source": [
    "Define thresholds"
   ]
  },
  {
   "cell_type": "code",
   "execution_count": null,
   "id": "70382c5a",
   "metadata": {},
   "outputs": [],
   "source": [
    "lim_tas=0.       # Deg C\n",
    "lim_pr=10.       # mm\n",
    "lim_gust=17.     # m/s\n",
    "lim_snow = 10.   # cm\n",
    "lim_snow6 = 6.   # cm\n",
    "lim_snow25 = 25. # cm\n",
    "\n",
    "\n",
    "input_dat = \"/Users/suraj_fmi/dmin_CLIMAAX/\"\n",
    "output_dar = \"/Users/suraj_fmi/dmin_CLIMAAX/\""
   ]
  },
  {
   "cell_type": "markdown",
   "id": "e2cc9677",
   "metadata": {},
   "source": [
    "Read a Datasets \n",
    "\n",
    " Read the U and V components of Wind: Unit (m/s)"
   ]
  },
  {
   "cell_type": "code",
   "execution_count": null,
   "id": "63da1de7",
   "metadata": {},
   "outputs": [],
   "source": [
    "u10 = xr.open_mfdataset(os.path.join(input_dat, \"10m_u_component_of_wind_DMIN_era5Land_202*.nc\"),chunks='auto').u10\n",
    "v10 = xr.open_mfdataset(os.path.join(input_dat, \"10m_v_component_of_wind_DMIN_era5Land_202*.nc\"),chunks='auto').v10"
   ]
  },
  {
   "cell_type": "markdown",
   "id": "c55c462a",
   "metadata": {},
   "source": [
    "Calculate wind speed from U and V component (m/s)"
   ]
  },
  {
   "cell_type": "code",
   "execution_count": null,
   "id": "3f2ff549",
   "metadata": {},
   "outputs": [],
   "source": [
    "wspd = np.sqrt((u10 * u10) + (v10 * v10))\n",
    "wspd = wspd.assign_attrs(units=\"m/s\", description=\"Wind Speed\")\n",
    "del u10, v10"
   ]
  },
  {
   "cell_type": "markdown",
   "id": "d613ea88",
   "metadata": {},
   "source": [
    "Read Temperature: Unit (K)"
   ]
  },
  {
   "cell_type": "code",
   "execution_count": null,
   "id": "83dba6d5",
   "metadata": {},
   "outputs": [],
   "source": [
    "tas = xr.open_mfdataset(os.path.join(input_dat, \"2m_temperature_DMIN_era5Land_202*.nc\"),chunks='auto').t2m\n",
    "tas = tas.assign_attrs(units=\"K\", description=\"Temperature data\")\n",
    "tas = xc.units.convert_units_to(tas, \"degC\")"
   ]
  },
  {
   "cell_type": "markdown",
   "id": "5b2b6b9f",
   "metadata": {},
   "source": [
    "Read snow data:  Unit (M)"
   ]
  },
  {
   "cell_type": "code",
   "execution_count": null,
   "id": "2b2490a5",
   "metadata": {},
   "outputs": [],
   "source": [
    "snow = xr.open_mfdataset(os.path.join(input_dat, \"snow_depth_DMIN_era5Land_202*.nc\"),chunks='auto').sde\n",
    "snow = xc.units.convert_units_to(snow, \"cm\")\n",
    "\n",
    "#! Annual sum of blizzard days \n",
    "\n",
    "BdayCount_annual = ((tas < lim_tas) * (snow > lim_snow) * (wspd > lim_gust) * 1).groupby('time.year').sum(dim='time')\n",
    "BdayCount_annual = BdayCount_annual.where(BdayCount_annual != 0.)\n",
    "BdayCount_annual = BdayCount_annual.assign_attrs(units=\"number\", long_name=\"Annual number of blizzard days\")\n",
    "BdayCount_annual = BdayCount_annual.to_dataset(name='blizzard_days')\n",
    "BdayCount_annual_mean = BdayCount_annual.mean('year')\n",
    "BdayCount_annual_mean.to_netcdf(path=os.path.join(input_dat, \"BdayCount_annual_mean.nc\"))\n",
    "del BdayCount_annual"
   ]
  },
  {
   "cell_type": "markdown",
   "id": "042f0dc4",
   "metadata": {},
   "source": [
    "Probability of occurrence of blizzard days (%)"
   ]
  },
  {
   "cell_type": "code",
   "execution_count": null,
   "id": "92a0ec6b",
   "metadata": {},
   "outputs": [],
   "source": [
    "BdayCount_anaProb = ((tas < lim_tas) * (snow > lim_snow) * (wspd > lim_gust)).groupby('time.year').mean('time')\n",
    "del tas, wspd, pr\n",
    "BdayCount_anaProb = BdayCount_anaProb.where(BdayCount_anaProb != 0.)\n",
    "BdayCount_anaProb = BdayCount_anaProb.assign_attrs(units=\"%\", long_name=\"Annual probability of blizzard days\")\n",
    "BdayCount_anaProb = BdayCount_anaProb.to_dataset(name='blizzard_days')\n",
    "BdayCount_anaProb_mean = BdayCount_anaProb.mean('year')\n",
    "BdayCount_anaProb_mean = BdayCount_anaProb_mean * 100.\n",
    "BdayCount_anaProb_mean.to_netcdf(path=os.path.join(input_dat, \"BdayCount_AnaProb_mean.nc\"))\n",
    "del BdayCount_anaProb"
   ]
  },
  {
   "cell_type": "markdown",
   "id": "a7a7ed8f",
   "metadata": {},
   "source": [
    "Annual sum of Heavy snowfall days for snowfall > 6cm"
   ]
  },
  {
   "cell_type": "code",
   "execution_count": null,
   "id": "2c41897f",
   "metadata": {},
   "outputs": [],
   "source": [
    "snow6Count_annual = ((snow > lim_snow6) * 1).groupby('time.year').sum('time')\n",
    "snow6Count_annual = snow6Count_annual.where(snow6Count_annual != 0.)\n",
    "snow6Count_annual = snow6Count_annual.assign_attrs(units=\"number\", long_name=\"Annual number of snow days\")\n",
    "snow6Count_annual = snow6Count_annual.to_dataset(name='snow_days')\n",
    "snow6Count_annual_mean = snow6Count_annual.mean('year')\n",
    "snow6Count_annual_mean.to_netcdf(path=os.path.join(input_dat, \"snow6Count_annual_mean.nc\"))\n",
    "del snow6Count_annual"
   ]
  },
  {
   "cell_type": "markdown",
   "id": "c2993c86",
   "metadata": {},
   "source": [
    "Annual sum of Heavy snowfall days for snowfall > 25cm"
   ]
  },
  {
   "cell_type": "code",
   "execution_count": null,
   "id": "f95c6223",
   "metadata": {},
   "outputs": [],
   "source": [
    "snow25Count_annual = ((snow > lim_snow25) * 1).groupby('time.year').sum('time')\n",
    "snow25Count_annual = snow25Count_annual.where(snow25Count_annual != 0.)\n",
    "snow25Count_annual = snow25Count_annual.assign_attrs(units=\"number\", long_name=\"Annual number of snow days\")\n",
    "snow25Count_annual = snow25Count_annual.to_dataset(name='snow_days')\n",
    "snow25Count_annual_mean = snow25Count_annual.mean('year')\n",
    "snow25Count_annual_mean.to_netcdf(path=os.path.join(input_dat, \"snow25Count_annual_mean.nc\"))\n",
    "del snow25Count_annual"
   ]
  },
  {
   "cell_type": "markdown",
   "id": "9037820e",
   "metadata": {},
   "source": [
    "Probability of occurrence in % for snowfall > 6cm"
   ]
  },
  {
   "cell_type": "code",
   "execution_count": null,
   "id": "5ae2a408",
   "metadata": {},
   "outputs": [],
   "source": [
    "snow6Prob_annual = (snow > 6.).groupby('time.year').mean('time')\n",
    "snow6Prob_annual = snow6Prob_annual.where(snow6Prob_annual != 0.)\n",
    "snow6Prob_annual = snow6Prob_annual.assign_attrs(units=\"%\", long_name=\"Annual probability of snow days\")\n",
    "snow6Prob_annual = snow6Prob_annual.to_dataset(name='snow_days')\n",
    "snow6Prob_annual = snow6Prob_annual * 100.\n",
    "snow6Prob_annual_mean = snow6Prob_annual.mean('year')\n",
    "snow6Prob_annual_mean.to_netcdf(path=os.path.join(input_dat, \"snow6Prob_annual_mean.nc\"))\n",
    "del snow6Prob_annual"
   ]
  },
  {
   "cell_type": "markdown",
   "id": "9dc64c48",
   "metadata": {},
   "source": [
    "Probability of occurrence in % for snowfall > 25cm"
   ]
  },
  {
   "cell_type": "code",
   "execution_count": null,
   "id": "d977308d",
   "metadata": {},
   "outputs": [],
   "source": [
    "snow25Prob_annual = (snow > 25.).groupby('time.year').mean('time')\n",
    "snow25Prob_annual = snow25Prob_annual.where(snow25Prob_annual != 0.)\n",
    "snow25Prob_annual = snow25Prob_annual.assign_attrs(units=\"%\", long_name=\"Annual probability of snow days\")\n",
    "snow25Prob_annual = snow25Prob_annual.to_dataset(name='snow_days')\n",
    "snow25Prob_annual = snow25Prob_annual * 100.\n",
    "snow25Prob_annual_mean = snow25Prob_annual.mean('year')\n",
    "snow25Prob_annual_mean.to_netcdf(path=os.path.join(input_dat, \"snow25Prob_annual_mean.nc\"))\n",
    "del snow25Prob_annual"
   ]
  }
 ],
 "metadata": {},
 "nbformat": 4,
 "nbformat_minor": 5
}
