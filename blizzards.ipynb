{
 "cells": [
  {
   "cell_type": "code",
   "execution_count": null,
   "metadata": {},
   "outputs": [],
   "source": [
    "from glob import glob\n",
    "import xarray as xr\n",
    "import numpy as np\n",
    "import matplotlib.pyplot as plt\n",
    "import xclim as xc"
   ]
  },
  {
   "cell_type": "markdown",
   "metadata": {},
   "source": [
    "def read_netcdfs(files, dim):\n",
    "   # glob expands paths with * to a list of files, like the unix shell\n",
    "    paths = sorted(glob(files))\n",
    "    datasets = [xr.open_dataset(p) for p in paths]\n",
    "    combined = xr.concat(datasets, dim)\n",
    "    return combined\n",
    "combined = read_netcdfs('/all/my/files/*.nc', dim='time')"
   ]
  },
  {
   "cell_type": "code",
   "execution_count": null,
   "metadata": {},
   "outputs": [],
   "source": [
    "lim_t2m=0.\n",
    "lim_prec=10.\n",
    "lim_gust=17."
   ]
  },
  {
   "cell_type": "markdown",
   "metadata": {},
   "source": [
    "ds.longitude.values[42:45, 128:135]"
   ]
  },
  {
   "cell_type": "markdown",
   "metadata": {},
   "source": [
    "Read a Data\n",
    " Unit U10 (m s-1)"
   ]
  },
  {
   "cell_type": "code",
   "execution_count": null,
   "metadata": {},
   "outputs": [],
   "source": [
    "ds_u10 = xr.open_dataset(\"/Users/suraj_fmi/D_Drive/Prog_FMI/dmin_CLIMAAX/10m_u_component_of_wind_DMIN_era5Land_202112.nc\")\n",
    "u10 = ds_u10.u10"
   ]
  },
  {
   "cell_type": "markdown",
   "metadata": {},
   "source": [
    "Unit V10 (m s-1)"
   ]
  },
  {
   "cell_type": "code",
   "execution_count": null,
   "metadata": {},
   "outputs": [],
   "source": [
    "ds_v10 = xr.open_dataset(\"/Users/suraj_fmi/D_Drive/Prog_FMI/dmin_CLIMAAX/10m_v_component_of_wind_DMIN_era5Land_202112.nc\")\n",
    "v10 = ds_v10.v10"
   ]
  },
  {
   "cell_type": "markdown",
   "metadata": {},
   "source": [
    "Calculate wind speed from U and V component (m/s)"
   ]
  },
  {
   "cell_type": "code",
   "execution_count": null,
   "metadata": {},
   "outputs": [],
   "source": [
    "wspd = np.sqrt((u10 * u10) + (v10 * v10))\n",
    "del u10, v10"
   ]
  },
  {
   "cell_type": "markdown",
   "metadata": {},
   "source": [
    "Unit temperature (K)"
   ]
  },
  {
   "cell_type": "code",
   "execution_count": null,
   "metadata": {},
   "outputs": [],
   "source": [
    "ds_tas = xr.open_dataset(\"/Users/suraj_fmi/D_Drive/Prog_FMI/dmin_CLIMAAX/2m_temperature_DMIN_era5Land_202112.nc\")"
   ]
  },
  {
   "cell_type": "markdown",
   "metadata": {},
   "source": [
    "tas1 = ds_tas.t2m.values[0:31, 0:451, 0:3600]"
   ]
  },
  {
   "cell_type": "code",
   "execution_count": null,
   "metadata": {},
   "outputs": [],
   "source": [
    "tas1 = ds_tas.t2m.values[0:31, 200, 1500]"
   ]
  },
  {
   "cell_type": "markdown",
   "metadata": {},
   "source": [
    "Covert unit kelvin to degC"
   ]
  },
  {
   "cell_type": "code",
   "execution_count": null,
   "metadata": {},
   "outputs": [],
   "source": [
    "tas1 = tas1 -273,15\n",
    "tas1 =  np.where(tas1 <lim_t2m, tas1, -1)"
   ]
  },
  {
   "cell_type": "markdown",
   "metadata": {},
   "source": [
    "tas1.where((tas1 <lim_t2m), drop=True)"
   ]
  },
  {
   "cell_type": "code",
   "execution_count": null,
   "metadata": {},
   "outputs": [],
   "source": [
    "type(tas1)"
   ]
  },
  {
   "cell_type": "markdown",
   "metadata": {},
   "source": [
    "tas2 = tas.values[0:31, 200, 1500]\n",
    " Unit precipitation (mm)\n",
    " Multiplying the water depth(m) by 1000 to get water quantity as mm depth."
   ]
  },
  {
   "cell_type": "code",
   "execution_count": null,
   "metadata": {},
   "outputs": [],
   "source": [
    "ds_pr = xr.open_dataset(\"/Users/suraj_fmi/D_Drive/Prog_FMI/dmin_CLIMAAX/total_precipitation_DSUM_era5Land_202112.nc\")\n",
    "pr = ds_pr.tp"
   ]
  },
  {
   "cell_type": "markdown",
   "metadata": {},
   "source": [
    "Covert unit m to mm"
   ]
  },
  {
   "cell_type": "code",
   "execution_count": null,
   "metadata": {},
   "outputs": [],
   "source": [
    "pr = pr * 1000.\n",
    "\n",
    "\n",
    "tas1 = tas(,100,100)"
   ]
  },
  {
   "cell_type": "markdown",
   "metadata": {},
   "source": [
    "do day=1,yrlength\n",
    " \n",
    "            if(tas(i,j,day,yq)<lim_t2m.and.pr(i,j,day,yq)>lim_prec&\n",
    "                 .and.wspd(i,j,day,yq)>lim_gust)then\n",
    "              \n",
    "              \n",
    "              cases(i,j,yq)=cases(i,j,yq)+1\n",
    "            end if\n",
    "end do"
   ]
  },
  {
   "cell_type": "markdown",
   "metadata": {},
   "source": [
    "cases_count = data.Snow_Albedo_Daily_Tile\n",
    "                .where(data.Snow_Albedo_Daily_Tile == 150)\n",
    "                .notnull()\n",
    "                .resample('AS', 'TIME', how='sum')"
   ]
  },
  {
   "cell_type": "markdown",
   "metadata": {},
   "source": [
    "a.where((a > 6) & (a < 18), drop=True)"
   ]
  }
 ],
 "metadata": {},
 "nbformat": 4,
 "nbformat_minor": 2
}
