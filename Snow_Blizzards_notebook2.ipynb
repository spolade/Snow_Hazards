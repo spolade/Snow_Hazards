{
 "cells": [
  {
   "cell_type": "markdown",
   "id": "114c11c0-af34-4523-92fb-9a0d62cd518b",
   "metadata": {
    "tags": []
   },
   "source": [
    "# Simple Heavy snowfall & blizzards workflow\n",
    "\n",
    "Click [![Binder](https://mybinder.org/badge_logo.svg)](https://mybinder.org/v2/gh/CLIMAAX/DROUGHTS/main?labpath=DROUGHTS_notebook_2.ipynb) to launch this workflow on MyBinder. \n",
    "\n",
    "This is the first and simplest snow workflow.  "
   ]
  },
  {
   "cell_type": "markdown",
   "id": "2096c862-1b27-4fcf-bfd2-d85c5d3e3b22",
   "metadata": {
    "tags": []
   },
   "source": [
    "## Risk assessment methodology\n",
    "\n",
    "The approach is to visualise the exposed vulnerable population to the heavy snowfall and blizzards. This can be done by overlying the heavy snowfall and blizzard Indicator, and population data. "
   ]
  },
  {
   "cell_type": "markdown",
   "id": "d5268cbd-a0f4-4d66-a20c-b44723d92443",
   "metadata": {},
   "source": [
    "### Blizzard  \n",
    "\n",
    "A blizzard is a severe storm condition defined by low temperature, sustained wind or frequent wind gust and considerable precipitating or blowing snow. For blizzard conditions we propose the use of following impact indicator: Tmean  ≤ 0 oC, Rs (snow amount) ≥ 10 cm and Wg (wind gust) ≥ 17 m/s ( Vajda et al., 2014). This impact indicator was defined taking into account the exposure of critical infrastructure, i.e., roads, rails, power lines, telecommunication to the hazard and is based on an extensive literature review, media reports, surveys conducted with European CI operators and case studies. \n",
    "\n",
    "### Heavy Snow \n",
    "\n",
    "Heavy snowfall may cause many disruptions and impacts in various sectors; however, the impacts and consequences of this hazard depend on the affected sector, infrastructure and also preparedness of society that varies over Europe.  For example, already a few centimeters of snow can disrupt road traffic, but doesn’t normally cause any harm to energy infrastructure. Many weather services have three warning levels based on the severity of expected impacts, which are typically different for different sectors of infrastructure. There is a large variation in the national warning criteria or thresholds.\n",
    "\n",
    "Similarly to blizzard, the impact indicators for heavy snowfall were defined taking into account the exposure of critical infrastructure, i.e., roads, rails, power lines, telecommunication to the hazard and is based on an extensive literature review, media reports, surveys conducted with European CI operators and case studies. The qualitative description of the two-level thresholds are:\n",
    "\n",
    "** 1st threshold:** Some adverse impacts are expected, their severity depends on the resilience of the system, transportation is mainly affected.\n",
    "\n",
    "** 2nd threshold:**  The weather phenomena are so severe that is likely that adverse impact will occur, CI system is seriously impacted.\n",
    "\n",
    "This code calculates the Annual probability (%) of a blizzard and heavy snowfall during the specified period and a region of interest.\n",
    "\n"
   ]
  },
  {
   "cell_type": "markdown",
   "id": "0381c6ef-c29b-45bc-998e-61ea322e71a8",
   "metadata": {},
   "source": [
    "Exposure data  \n",
    "Exposure is assessed by overlaying the European population density map at 1000 m resolution using the [Global Human Settlement Population dataset](https://ghsl.jrc.ec.europa.eu/download.php?ds=pop) dataset. "
   ]
  },
  {
   "cell_type": "markdown",
   "id": "5c7f97fe-2578-4ce9-b4c7-1fe40214f045",
   "metadata": {
    "jp-MarkdownHeadingCollapsed": true,
    "tags": []
   },
   "source": [
    "## Preparation work\n",
    "### Load libraries\n",
    "\n",
    "In this notebook we will use the following Python libraries:\n",
    "- [os](https://docs.python.org/3/library/os.html) - To create directories and work with files\n",
    "- [pooch](https://www.fatiando.org/pooch/latest/index.html) - To download and unzip the data\n",
    "- [rasterio](https://rasterio.readthedocs.io/en/stable/) - To access and explore geospatial raster data in GeoTIFF format\n",
    "- [xarray](https://docs.xarray.dev/en/stable/) - To process the data and prepare it for damage calculation\n",
    "- [rioxarray](https://corteva.github.io/rioxarray/stable/) - Rasterio xarray extension - to make it easier to use GeoTIFF data with xarray\n",
    "- [cartopy](https://scitools.org.uk/cartopy/docs/latest/) - To plot the maps\n",
    "- [matplotlib](https://matplotlib.org/) - For plotting as well\n",
    "- [cdsapi](https://pypi.org/project/cdsapi/) - To access the  CDS data\n",
    "- [xclim](https://xclim.readthedocs.io/en/stable/installation.html) - To correct the required data units\n",
    "- [urllib](https://docs.python.org/3/library/urllib.html/) - modules to handle URL \n"
   ]
  },
  {
   "cell_type": "code",
   "execution_count": 1,
   "id": "79e25ef6-9a3b-4d42-a2b5-d787c2b70878",
   "metadata": {},
   "outputs": [
    {
     "name": "stderr",
     "output_type": "stream",
     "text": [
      "/Users/poladesu/anaconda3/lib/python3.10/site-packages/xclim/indices/fire/_cffwis.py:218: NumbaDeprecationWarning: \u001b[1mThe 'nopython' keyword argument was not supplied to the 'numba.jit' decorator. The implicit default value for this argument is currently False, but it will be changed to True in Numba 0.59.0. See https://numba.readthedocs.io/en/stable/reference/deprecation.html#deprecation-of-object-mode-fall-back-behaviour-when-using-jit for details.\u001b[0m\n",
      "  def _day_length(lat: int | float, mth: int):  # pragma: no cover\n",
      "/Users/poladesu/anaconda3/lib/python3.10/site-packages/xclim/indices/fire/_cffwis.py:238: NumbaDeprecationWarning: \u001b[1mThe 'nopython' keyword argument was not supplied to the 'numba.jit' decorator. The implicit default value for this argument is currently False, but it will be changed to True in Numba 0.59.0. See https://numba.readthedocs.io/en/stable/reference/deprecation.html#deprecation-of-object-mode-fall-back-behaviour-when-using-jit for details.\u001b[0m\n",
      "  def _day_length_factor(lat: float, mth: int):  # pragma: no cover\n"
     ]
    }
   ],
   "source": [
    "import os\n",
    "import pooch\n",
    "\n",
    "import numpy as np\n",
    "import rasterio\n",
    "from pathlib import Path\n",
    "import rioxarray as rxr\n",
    "import xarray as xr\n",
    "\n",
    "import matplotlib as mpl\n",
    "import matplotlib.pyplot as plt\n",
    "import cartopy.crs as ccrs\n",
    "import cartopy.feature as cfeature\n",
    "\n",
    "import cdsapi\n",
    "import xclim as xc\n",
    "import pandas as pd\n",
    "from urllib.request import urlopen\n",
    "from glob import glob"
   ]
  },
  {
   "cell_type": "markdown",
   "id": "81faf965-390d-4da5-afc4-eb46a3c1feaa",
   "metadata": {
    "tags": []
   },
   "source": [
    "### Create the directory structure\n",
    "In order for this workflow to work even if you download and use just this notebook, we need to set up the directory structure.  \n",
    "Next cell will create the directory called 'snow_workflow' in the same directory where this notebook is saved.\n",
    "\n",
    "The cell after will create the **data** directory inside the **snow_workflow**."
   ]
  },
  {
   "cell_type": "code",
   "execution_count": 2,
   "id": "262714f0-48e3-451c-a1c3-186a056f3286",
   "metadata": {},
   "outputs": [],
   "source": [
    "workflow_folder = 'snow_workflow'\n",
    "if not os.path.exists(workflow_folder):\n",
    "    os.makedirs(workflow_folder)"
   ]
  },
  {
   "cell_type": "code",
   "execution_count": 3,
   "id": "1433fbba-fa30-497c-a20f-9c785d41fe13",
   "metadata": {},
   "outputs": [],
   "source": [
    "data_dir = os.path.join(workflow_folder,'data')\n",
    "if not os.path.exists(data_dir):\n",
    "    os.makedirs(data_dir)"
   ]
  },
  {
   "cell_type": "markdown",
   "id": "62fc175d-16ed-44c5-b868-4aa434e92292",
   "metadata": {
    "tags": []
   },
   "source": [
    "## Download data\n",
    "\n",
    "In this workflow, we will have a mix of data available to download through API and the data that must be manually downloaded from the website.\n",
    "\n",
    "Since there is no API to download population data, we can use **[pooch](https://www.fatiando.org/pooch/latest/index.html)** library to download and unzip it. \n",
    "\n",
    "Pooch will check if the zip file already exists by comparing the hash of the file with what is stored in the default and only download it if it is not already there."
   ]
  },
  {
   "cell_type": "markdown",
   "id": "b57d8c85-f9b7-4cb6-8d48-4c82f0c8d785",
   "metadata": {
    "tags": []
   },
   "source": [
    "### Population data\n",
    "First we need the information on the population. We will download it from the JRC data portal.  \n",
    "Once the data is downloaded and unzipped, Pooch will list the content of the directory with the data.  \n",
    "\n",
    "In this example we are using population data from JRC data portal - the Global Human Settlement Layer (GHSL). Note that this dataset is available in 100m resolution as well.\n",
    "\n",
    "We are downloading global data, but it is also available in regional grid."
   ]
  },
  {
   "cell_type": "code",
   "execution_count": 4,
   "id": "4e827f09-9028-4394-b334-30c432f44e4c",
   "metadata": {},
   "outputs": [
    {
     "data": {
      "text/plain": [
       "['/Users/poladesu/D_Drive/Prog_FMI/dmin_CLIMAAX/snow_workflow/data/GHS_POP_E2030_GLOBE_R2023A_54009_1000_V1_0.tif',\n",
       " '/Users/poladesu/D_Drive/Prog_FMI/dmin_CLIMAAX/snow_workflow/data/.DS_Store',\n",
       " '/Users/poladesu/D_Drive/Prog_FMI/dmin_CLIMAAX/snow_workflow/data/GHSL_Data_Package_2023.pdf',\n",
       " '/Users/poladesu/D_Drive/Prog_FMI/dmin_CLIMAAX/snow_workflow/data/GHS_POP_GLOBE_R2023A_input_metadata.xlsx',\n",
       " '/Users/poladesu/D_Drive/Prog_FMI/dmin_CLIMAAX/snow_workflow/data/snow6Prob_annual_mean.nc',\n",
       " '/Users/poladesu/D_Drive/Prog_FMI/dmin_CLIMAAX/snow_workflow/data/snow25Prob_annual_mean.nc',\n",
       " '/Users/poladesu/D_Drive/Prog_FMI/dmin_CLIMAAX/snow_workflow/data/BdayCount_AnaProb_mean.nc',\n",
       " '/Users/poladesu/D_Drive/Prog_FMI/dmin_CLIMAAX/snow_workflow/data/GHS_POP_E2030_GLOBE_R2023A_54009_1000_V1_0.tif.ovr',\n",
       " '/Users/poladesu/D_Drive/Prog_FMI/dmin_CLIMAAX/snow_workflow/data/6011302b72827340cb7b024ff736b1e6-GHS_POP_E2030_GLOBE_R2023A_54009_1000_V1_0.zip']"
      ]
     },
     "execution_count": 4,
     "metadata": {},
     "output_type": "execute_result"
    }
   ],
   "source": [
    "url = 'https://jeodpp.jrc.ec.europa.eu/ftp/jrc-opendata/GHSL/GHS_POP_GLOBE_R2023A/GHS_POP_E2030_GLOBE_R2023A_54009_1000/V1-0/GHS_POP_E2030_GLOBE_R2023A_54009_1000_V1_0.zip'\n",
    "\n",
    "pooch.retrieve(\n",
    "    url=url,\n",
    "    known_hash='a47d7d587b2607c62bbffed4b05521ca9bd7be7d431bcfac7e33286954a68d3c',\n",
    "    path=data_dir,\n",
    "    processor=pooch.Unzip(extract_dir=''))"
   ]
  },
  {
   "cell_type": "markdown",
   "id": "49d07922-a557-4d7f-b205-496cea8e93da",
   "metadata": {},
   "source": [
    "The zip file contains data, as well as metadata and the documentation in the pdf file."
   ]
  },
  {
   "cell_type": "markdown",
   "id": "33b3bd90-f7ad-4dfa-ab17-71c4eee8b476",
   "metadata": {},
   "source": [
    "### The Heavy snowfall & blizzards Indicator\n",
    "\n",
    "We downloaded this dataset using the CDS API from the Copernicus Climate Data Store (https://cds.climate.copernicus.eu/#!/home). We require several variables to calculate these indicator, which are at an hourly frequency. Consequently, this analysis is limited to the data period from 1991 to 2010.\""
   ]
  },
  {
   "cell_type": "code",
   "execution_count": null,
   "id": "f901d489-35bf-46cc-84bb-27e82d531def",
   "metadata": {},
   "outputs": [
    {
     "name": "stderr",
     "output_type": "stream",
     "text": [
      "2023-09-08 11:48:54,862 INFO Welcome to the CDS\n",
      "2023-09-08 11:48:54,864 INFO Sending request to https://cds.climate.copernicus.eu/api/v2/resources/reanalysis-era5-single-levels\n",
      "2023-09-08 11:48:55,144 INFO Request is completed\n"
     ]
    }
   ],
   "source": [
    "c = cdsapi.Client()\n",
    "\n",
    "# Lat Lon for Finland\n",
    "area = [80, -10, 20, 45,]\n",
    "#area = [70, 20, 60, 30,]\n",
    "day_range=np.arange(1,32)\n",
    "month_range=np.array((1,2,3,10,11,12))\n",
    "varnames=['2m_temperature','10m_wind_gust_since_previous_post_processing','snow_depth','snow_density']\n",
    "dataset = 'reanalysis-era5-single-levels'\n",
    "\n",
    "# API request\n",
    "params = {'format': 'netcdf',\n",
    "        'product_type': 'reanalysis',\n",
    "        'variable': varnames,\n",
    "        'year': list(map(str, range(1991, 2010))),\n",
    "        'month': list(map(\"{:02d}\".format, range(1,13))),\n",
    "        'time': ['00:00', '06:00', '12:00', '18:00', ],\n",
    "        'day': list(np.char.zfill(list(map(str, day_range)),2)),\n",
    "        'grid': [0.25, 0.25],\n",
    "        'area':area,}\n",
    "\n",
    "# retrieve the location of the file\n",
    "fl = c.retrieve(dataset, params)\n",
    "\n",
    "# load into memory\n",
    "with urlopen(fl.location) as f:\n",
    "    ds = xr.open_dataset(f.read())\n",
    "\n",
    "# Convert Temperature unit \n",
    "ds['t2m']  = xc.units.convert_units_to(ds.t2m, \"degC\")\n",
    "ds['snow_depth'] = 1000 * ds.sd / ds.rsn\n",
    "ds = ds.drop(['sd','rsn'])\n",
    "ds['snow_depth'] = ds.snow_depth.assign_attrs(units=\"m\", description=\"snow depth\")\n",
    "ds['snow_depth'] = xc.units.convert_units_to(ds.snow_depth, \"cm\")\n",
    "print(ds)\n",
    "\n",
    "#| Calculate hourly to daily data \n",
    "tas_day        = ds.t2m.resample(time='24H').mean('time')\n",
    "wspd_day       = ds.fg10.resample(time='24H').max('time')\n",
    "snow_depth_day = ds.snow_depth.resample(time='24H').mean('time')\n",
    "\n",
    "#| Define thresholds \n",
    "lim_tas=0.\n",
    "lim_pr=10.\n",
    "lim_gust=17.\n",
    "lim_snow = 10.\n",
    "lim_snow6 = 6.\n",
    "lim_snow25 = 25.\n",
    "\n",
    "time_slice = slice(\"2021-12-01\", \"2021-12-05\")\n",
    "lat_bound  = slice(80, 60)\n",
    "lon_bound  = slice(100, 170)\n",
    "\n",
    "BdayCount_anaProb = ((tas_day < lim_tas) * (snow_depth_day > lim_snow) * (wspd_day > lim_gust)).groupby('time.year').mean('time')\n",
    "del tas_day, wspd_day\n",
    "\n",
    "BdayCount_anaProb = BdayCount_anaProb.where(BdayCount_anaProb != 0.)\n",
    "BdayCount_anaProb = BdayCount_anaProb.assign_attrs(units=\"%\", long_name=\"Annual probability of blizzard days\")\n",
    "BdayCount_anaProb = BdayCount_anaProb.to_dataset(name='blizzard_days')\n",
    "BdayCount_anaProb_mean = BdayCount_anaProb.mean('year')\n",
    "BdayCount_anaProb_mean = BdayCount_anaProb_mean * 1000.\n",
    "BdayCount_anaProb_mean.to_netcdf(path=os.path.join(data_dir, \"BdayCount_AnaProb_mean.nc\"))\n",
    "del BdayCount_anaProb\n",
    "\n",
    "#| Probability of occurence in % for snowfall > 6cm\n",
    "\n",
    "snow6Prob_annual = (snow_depth_day > 6.).groupby('time.year').mean('time')\n",
    "snow6Prob_annual = snow6Prob_annual.where(snow6Prob_annual != 0.)\n",
    "snow6Prob_annual = snow6Prob_annual.assign_attrs(units=\"%\", long_name=\"Annual probability of snow days\")\n",
    "snow6Prob_annual = snow6Prob_annual.to_dataset(name='snow_days')\n",
    "snow6Prob_annual = snow6Prob_annual * 100.\n",
    "snow6Prob_annual_mean = snow6Prob_annual.mean('year')\n",
    "snow6Prob_annual_mean.to_netcdf(path=os.path.join(data_dir, \"snow6Prob_annual_mean.nc\"))\n",
    "del snow6Prob_annual\n",
    "\n",
    "#| Probability of occurence in % for snowfall > 25cm\n",
    "\n",
    "snow25Prob_annual = (snow_depth_day > 25.).groupby('time.year').mean('time')\n",
    "snow25Prob_annual = snow25Prob_annual.where(snow25Prob_annual != 0.)\n",
    "snow25Prob_annual = snow25Prob_annual.assign_attrs(units=\"%\", long_name=\"Annual probability of snow days\")\n",
    "snow25Prob_annual = snow25Prob_annual.to_dataset(name='snow_days')\n",
    "snow25Prob_annual = snow25Prob_annual * 100.\n",
    "snow25Prob_annual_mean = snow25Prob_annual.mean('year')\n",
    "snow25Prob_annual_mean.to_netcdf(path=os.path.join(data_dir, \"snow25Prob_annual_mean.nc\"))\n",
    "del snow25Prob_annual"
   ]
  },
  {
   "cell_type": "markdown",
   "id": "72c0958b-4f4a-4563-82a0-c3943dd6b36e",
   "metadata": {
    "tags": []
   },
   "source": [
    "Note that now we have a directory **snow_workflow/data** where all the zip files and unzipped files are (or should be).  \n",
    "We can list all the files in the **data_dir** using the os library.  "
   ]
  },
  {
   "cell_type": "code",
   "execution_count": null,
   "id": "0de205d9-1df5-4ee1-b468-2aa3057b4ead",
   "metadata": {},
   "outputs": [],
   "source": [
    "with os.scandir(data_dir) as entries:\n",
    "    for entry in entries:\n",
    "        print(entry.name)"
   ]
  },
  {
   "cell_type": "markdown",
   "id": "8c954997-6b8f-488c-be83-babd74f36c8e",
   "metadata": {
    "tags": [],
    "toc-hr-collapsed": true
   },
   "source": [
    "## Explore the data\n",
    "Now that we have downloaded and unpacked the needed data, we can have a look what is inside.  "
   ]
  },
  {
   "cell_type": "markdown",
   "id": "78a4e50d-13b2-4e66-a14c-ab527a7dadd1",
   "metadata": {
    "tags": []
   },
   "source": [
    "### Annual probability plot of indicator\n"
   ]
  },
  {
   "cell_type": "code",
   "execution_count": null,
   "id": "354af1b9-4cc3-41e7-865f-59bc6372a836",
   "metadata": {
    "tags": []
   },
   "outputs": [],
   "source": [
    "fig = plt.figure(figsize=(8, 6))\n",
    "p_levels = [ 1,5,10,15,20]\n",
    "\n",
    "p = BdayCount_anaProb_mean.blizzard_days.plot(\n",
    "    subplot_kws=dict(projection=ccrs.Orthographic(0, 35)),\n",
    "    levels=p_levels, \n",
    "    cbar_kwargs={\"label\": \"blizzard days\"},\n",
    "    cmap=\"GnBu\",\n",
    "    transform=ccrs.PlateCarree(),\n",
    ")\n",
    "p.axes.coastlines()\n",
    "plt.title('Annual probability (%) of blizzard ', loc = \"left\")\n"
   ]
  },
  {
   "cell_type": "code",
   "execution_count": null,
   "id": "c94401ec-168c-437d-9647-116aaa605214",
   "metadata": {
    "tags": []
   },
   "outputs": [],
   "source": [
    "fig = plt.figure(figsize=(8, 6))\n",
    "p_levels = [0, 10,20,30,40,50,60,70]\n",
    "\n",
    "p = snow6Prob_annual_mean.snow_days.plot(\n",
    "    subplot_kws=dict(projection=ccrs.Orthographic(0, 35)),\n",
    "    levels=p_levels, \n",
    "    cmap=\"GnBu\",\n",
    "    transform=ccrs.PlateCarree(),\n",
    ")\n",
    "p.axes.coastlines()\n",
    "plt.title('Annual probability (%) of snowfall exceeding 6 cm  ', loc = \"left\")\n"
   ]
  },
  {
   "cell_type": "code",
   "execution_count": null,
   "id": "750bc9ae-36d1-4321-8a3b-a33be8c06509",
   "metadata": {
    "tags": []
   },
   "outputs": [],
   "source": [
    "fig = plt.figure(figsize=(8, 6))\n",
    "p_levels = [0,10,20,30,40]\n",
    "\n",
    "p = snow25Prob_annual_mean.snow_days.plot(\n",
    "    subplot_kws=dict(projection=ccrs.Orthographic(0, 35)),\n",
    "    levels=p_levels, \n",
    "    cmap=\"GnBu\",\n",
    "    transform=ccrs.PlateCarree(),\n",
    ")\n",
    "p.axes.coastlines()\n",
    "plt.title('Annual probability (%) of snowfall exceeding 25 cm  ', loc = \"left\")\n"
   ]
  },
  {
   "cell_type": "markdown",
   "id": "185ece4e-e965-4ba4-9de7-5a2e31c93b8b",
   "metadata": {
    "tags": []
   },
   "source": [
    "### Population data\n",
    "Population data is in file with filename: GHS_POP_E2030_GLOBE_R2023A_54009_1000_V1_0.tif\n",
    "\n",
    "We can use rioxaray to load this file."
   ]
  },
  {
   "cell_type": "code",
   "execution_count": null,
   "id": "a62471b9-d92d-43d6-949e-c1a40410e164",
   "metadata": {},
   "outputs": [],
   "source": [
    "filename_population = f'{data_dir}/GHS_POP_E2030_GLOBE_R2023A_54009_1000_V1_0.tif'\n",
    "\n",
    "population = rxr.open_rasterio(filename_population)\n",
    "population"
   ]
  },
  {
   "cell_type": "markdown",
   "id": "d96e4348-a93c-431c-956a-d930e7bc449d",
   "metadata": {
    "tags": [],
    "toc-hr-collapsed": true
   },
   "source": [
    "## Process the data\n",
    "\n",
    "In this workflow, we want to overlay the population data on snowfall and blizzard indicators to understand better where these indicators affect densely populated areas.\n",
    "\n",
    ":::{hint} Take a closer look at the dimensions and coordinates of our two data objects.\n",
    "- The population dataset contains two variables, the **cdinx** which is the data variable, and **3035** which has the informaiton about the projection.\n",
    "- Notice that population data has **x** and **y** as spatial dimensions, while ERA5 has **lat** and **lon**\n",
    "- The projections and resolutions are very different.\n",
    "\n",
    ":::"
   ]
  },
  {
   "cell_type": "markdown",
   "id": "88ffe46c-d23a-4e7b-a83b-39bef8af36d5",
   "metadata": {},
   "source": [
    "To be able to plot these two datasets together we must have them in the same projection and zoom to the same area.  \n"
   ]
  },
  {
   "cell_type": "markdown",
   "id": "cc554453-0646-42a6-9cc1-a2c672b1e4e0",
   "metadata": {},
   "source": [
    "### Reproject the datasets "
   ]
  },
  {
   "cell_type": "markdown",
   "id": "9216aa0e-9888-4818-9d7e-ef47327b8b4f",
   "metadata": {},
   "source": [
    "We will need to select the area of interest. We can reproject both in EPSG:4326 projection. \n",
    ":::{hint} Find more about EPSG:4326 projection 👇 (click)\n",
    ":class: dropdown\n",
    "EPSG:4326 is a geographic coordinate reference system (CRS) used to represent locations on the Earth's surface using latitude and longitude coordinates. \n",
    "In this projection, the Earth is modeled as a sphere, and the coordinates are represented as decimal degrees. The latitude ranges from -90° (South Pole) to +90° (North Pole), and the longitude ranges from -180° (180° West) to +180° (180° East). The coordinates (0°, 0°) correspond to the intersection of the Equator and the Prime Meridian in the Gulf of Guinea, off the coast of Africa.\n",
    "\n",
    "EPSG:4326 is known as a \"geographic CRS\" or \"unprojected CRS\" because it does not involve any map projections that distort the shape or area of the Earth's surface. It directly represents the geographic coordinates on the spherical Earth.\n",
    "\n",
    ":::"
   ]
  },
  {
   "cell_type": "markdown",
   "id": "4d579138-47c7-4bb2-a1f6-dc44a0299f35",
   "metadata": {},
   "source": [
    "Before we can reproject the CDI data, we need to set the projection for rioxarray library. This information can be found in the **3050** variabe, which is the actual projection code."
   ]
  },
  {
   "cell_type": "code",
   "execution_count": null,
   "id": "c9e906be-5e46-4698-9b60-14cc72f57484",
   "metadata": {},
   "outputs": [],
   "source": [
    "cdi.rio.write_crs(3035, inplace=True)"
   ]
  },
  {
   "cell_type": "markdown",
   "id": "8cd6dde8-18ca-42fd-871c-0ecbbd9f3db1",
   "metadata": {},
   "source": [
    "Note that this has added a coordinate called **lambert_azimuthal_equal_area**. Now rioxarray will know the original projection.  \n",
    "The populaiton data object has a coordinate spatial_ref which contains the projection information."
   ]
  },
  {
   "cell_type": "code",
   "execution_count": null,
   "id": "7b701727-1b22-43ef-b99f-00eb3e50e5da",
   "metadata": {},
   "outputs": [],
   "source": [
    "cdi = cdi.rio.reproject(\"EPSG:4326\")"
   ]
  },
  {
   "cell_type": "code",
   "execution_count": null,
   "id": "fc954d38-01e1-4dd2-bd50-e6e3d7b59ccb",
   "metadata": {},
   "outputs": [],
   "source": [
    "cdi"
   ]
  },
  {
   "cell_type": "markdown",
   "id": "75e37b3f-72a1-4f72-aac5-223eefba15b1",
   "metadata": {},
   "source": [
    ":::{caution} \n",
    "On some machines with low resources (for example on MyBinder) the notebook might crash when trying to reproject.  \n",
    "This is why at this point we will first select out the data roughly around Spain to have less data to reproject. The other option would be to download smaller area directly from JRC open data hub.\n",
    ":::"
   ]
  },
  {
   "cell_type": "code",
   "execution_count": null,
   "id": "7cfcf2ff-9ca5-4bf4-991e-3b558ac77ad7",
   "metadata": {},
   "outputs": [],
   "source": [
    "spain_population_m = population.sel(y=slice(6000000,4000000), x=slice(-1000000,1000000))\n",
    "spain_population = spain_population_m.rio.reproject(\"EPSG:4326\")"
   ]
  },
  {
   "cell_type": "code",
   "execution_count": null,
   "id": "4de81d03-126d-4495-9d24-8207796ead0c",
   "metadata": {},
   "outputs": [],
   "source": [
    "spain_population"
   ]
  },
  {
   "cell_type": "markdown",
   "id": "af8e021d-7a39-4cd6-b1fa-27af721d2521",
   "metadata": {},
   "source": [
    "### Select the area of interest\n",
    "In this workflow we will concentrate on the area of Catalonia. It roughly between 0°E and 3.4°E longitude and 40.5°N and 42.9°N latidude.  \n",
    "\n",
    ":::{caution} Attention!\n",
    "One very sneaky thing to note here is that latitudes (y dimension) in both datasets is **decreasing**.   \n",
    "This is very important as this means we need to have the minimum and maximum y value in this order when selecting the area.\n",
    ":::"
   ]
  },
  {
   "cell_type": "code",
   "execution_count": null,
   "id": "e0922d35-4b7f-4b1b-a513-2fcddb10a552",
   "metadata": {},
   "outputs": [],
   "source": [
    "xmin=0\n",
    "ymin=40.5\n",
    "xmax=3.4\n",
    "ymax=42.9"
   ]
  },
  {
   "cell_type": "markdown",
   "id": "6150cc30-2495-40a3-b338-f52f840e784b",
   "metadata": {},
   "source": [
    "There are two ways of selecting area. We can use xarray sel() function or rasterio rio.clip_box.  \n",
    "::::{tab-set}\n",
    "\n",
    ":::{tab-item} rasterio\n",
    "```\n",
    "catalonia_pop = population.rio.clip_box(\n",
    "    minx=xmin,\n",
    "    miny=ymin,\n",
    "    maxx=xmax,\n",
    "    maxy=ymax,\n",
    "   crs=\"EPSG:4326\",\n",
    ")\n",
    "```\n",
    ":::\n",
    "\n",
    ":::{tab-item} xarray\n",
    "```\n",
    "catalonia_population = population.sel(y=slice(ymax,ymin), x=slice(xmin,xmax))\n",
    "```\n",
    ":::\n",
    "\n",
    "::::"
   ]
  },
  {
   "cell_type": "code",
   "execution_count": null,
   "id": "2fd4432f-e2da-4fcb-b019-144b6283ff68",
   "metadata": {},
   "outputs": [],
   "source": [
    "catalonia_population = spain_population.sel(y=slice(ymax,ymin), x=slice(xmin,xmax))\n",
    "catalonia_population"
   ]
  },
  {
   "cell_type": "code",
   "execution_count": null,
   "id": "fbd7e411-bed7-4b5c-a05c-ac10ceb51dea",
   "metadata": {},
   "outputs": [],
   "source": [
    "catalonia_cdi = cdi.sel(y=slice(ymax,ymin), x=slice(xmin,xmax))\n",
    "catalonia_cdi"
   ]
  },
  {
   "cell_type": "markdown",
   "id": "4dccd235-5711-44d3-877b-486519f77502",
   "metadata": {},
   "source": [
    "## Plot it together"
   ]
  },
  {
   "cell_type": "markdown",
   "id": "42096edd-6abe-4854-97da-aad92906b4ca",
   "metadata": {},
   "source": [
    "### Basic plot\n",
    "With a little bit of code, we can simply plot these two datasets together"
   ]
  },
  {
   "cell_type": "code",
   "execution_count": null,
   "id": "5e008ef3-920b-42f2-8c01-ae4f18d756ad",
   "metadata": {},
   "outputs": [],
   "source": [
    "catalonia_cdi.cdinx.plot(cmap=plt.cm.PuRd, extend='max')\n",
    "\n",
    "p_levels = [ 1000, 2500, 5000, 10000, 15000, 20000, 25000, 30000, 35000, 40000, 45000]\n",
    "catalonia_population.plot(cmap=plt.cm.BuGn, levels=p_levels, extend='max')"
   ]
  },
  {
   "cell_type": "markdown",
   "id": "7d4b2c74-a7ce-4f55-8b72-f4044782214a",
   "metadata": {},
   "source": [
    "This plot doesn't really help us doing climate risk assessemnt, so we can try to make a few changes to the map."
   ]
  },
  {
   "cell_type": "markdown",
   "id": "b581b491-b381-4ccf-b09e-45ca00d939bc",
   "metadata": {
    "tags": []
   },
   "source": [
    "### Custom plot"
   ]
  },
  {
   "cell_type": "code",
   "execution_count": null,
   "id": "c522db1c-8159-4c0c-bee6-2590e7510de3",
   "metadata": {
    "tags": []
   },
   "outputs": [],
   "source": [
    "fig = plt.figure(figsize=(8, 6))\n",
    "ax = fig.add_subplot(1, 1, 1, projection=ccrs.PlateCarree())\n",
    "\n",
    "ax.set_extent([xmin, xmax, ymin, ymax], crs=ccrs.PlateCarree())\n",
    "\n",
    "ax.stock_img()\n",
    "\n",
    "# Plot CDI data\n",
    "cmap = mpl.colors.ListedColormap([\"#ffffff\", \"#f0e442\", \"#f5aa00\", \"#dc050c\",\"#0072b2\",\"#cc79a7\",\"#009e73\", \"#c8c8c8\"])\n",
    "c = catalonia_cdi.cdinx.plot(ax=ax, cmap=cmap, vmin=-0.5, vmax=7.5, add_colorbar=False, add_labels=False)\n",
    "\n",
    "#Plot the population\n",
    "p_levels = [ 1000, 2500, 5000, 10000, 15000, 20000, 25000, 30000, 35000, 40000]\n",
    "p = catalonia_population.plot(ax=ax, cmap=plt.cm.BuGn, levels=p_levels, extend='max', add_colorbar=False, add_labels=False)\n",
    "\n",
    "# Customize gridlines\n",
    "gridlines = p.axes.gridlines(draw_labels=True, dms=False, xlocs=[0, 2, 4], ylocs=[40, 42])\n",
    "ax.add_feature(cfeature.BORDERS)\n",
    "ax.add_feature(cfeature.COASTLINE)\n",
    "ax.add_feature(cfeature.RIVERS)\n",
    "\n",
    "plt.title('The Combined Drought Indicator and Population number', loc = \"left\")\n",
    "\n",
    "#population colorbar\n",
    "cax_p = fig.add_axes([ax.get_position().x0,\n",
    "                    ax.get_position().y0-0.03,\n",
    "                    ax.get_position().width,\n",
    "                    0.02])\n",
    "cbar_p = plt.colorbar(p, orientation=\"horizontal\", cax=cax_p, ticks=[1000, 5000, 15000, 25000, 35000])\n",
    "cbar_p.ax.tick_params(labelsize=8)\n",
    "\n",
    "# CDI colorbar\n",
    "cax_c = fig.add_axes([ax.get_position().x0,\n",
    "                    ax.get_position().y0,\n",
    "                    ax.get_position().width,\n",
    "                    0.08])\n",
    "cbar_c = plt.colorbar(c, orientation=\"horizontal\", cax=cax_c)\n",
    "cbar_c.ax.get_xaxis().set_ticks([])\n",
    "for j, lab in enumerate(['No drought', 'Watch:\\n rainfall\\n deficit', 'Warning:\\n soil moisture\\n deficit', 'Alert','Recovery','Temporary\\n soil moisture\\n recovery','Temporary\\n fAPAR\\n recovery','No data']):\n",
    "    cbar_c.ax.text(j, .5, lab, ha='center', va='center', size=8.5)\n",
    "\n",
    "#text\n",
    "barcelona_lon, barcelona_lat = 2.1686, 41.3874\n",
    "text_kwargs = dict(fontsize=12, color='#000032', transform=ccrs.PlateCarree())\n",
    "p.axes.text(barcelona_lon, barcelona_lat, '+ Barcelona', horizontalalignment='left', **text_kwargs)"
   ]
  },
  {
   "cell_type": "markdown",
   "id": "9894fe05-7206-4468-9441-6d974a1a2e27",
   "metadata": {
    "tags": []
   },
   "source": [
    "## Conclusions\n",
    "\n",
    "In this workflow, we have seen how to explore, process and visualise the data needed to analyse drought and population data."
   ]
  },
  {
   "cell_type": "markdown",
   "id": "58a12200-0053-4e52-945e-844b6ad72543",
   "metadata": {},
   "source": [
    "## Contributors\n",
    "Milana Vuckovic, ECMWF  \n",
    "Maurizio Mazzoleni, Vrije Universiteit Amsterdam"
   ]
  },
  {
   "cell_type": "markdown",
   "id": "5d964a54-c8e3-4127-8639-602d387980f5",
   "metadata": {},
   "source": [
    "## Appendix I - Customised plot explained step by step\n",
    "\n",
    "We will: \n",
    "- Add coastlines, rivers and country borders using cartopy\n",
    "- Set distinct colour levels for CDI\n",
    "- Remove the default colorbar and labels\n",
    "- Add custom colorbars and title\n",
    "- Add custom gridlines\n",
    "- And finally add a label for Barcelona"
   ]
  },
  {
   "cell_type": "markdown",
   "id": "758cce15-4642-4f2e-92f8-35c02bb9f35a",
   "metadata": {},
   "source": [
    "### Background \n",
    "First we make a basic plot and set geographical extent to our domain. This way we can zoom in without having to manipulate the data.  \n",
    "We can also add some (low resolution) background."
   ]
  },
  {
   "cell_type": "code",
   "execution_count": null,
   "id": "cc902dd2-70ee-4632-8e18-9d79772761dd",
   "metadata": {},
   "outputs": [],
   "source": [
    "fig = plt.figure(figsize=(8, 6))\n",
    "ax = fig.add_subplot(1, 1, 1, projection=ccrs.PlateCarree())\n",
    "\n",
    "ax.set_extent([xmin, xmax, ymin, ymax], crs=ccrs.PlateCarree())\n",
    "\n",
    "# Add background image with orography\n",
    "ax.stock_img()"
   ]
  },
  {
   "cell_type": "markdown",
   "id": "5c2b6166-d170-4621-a044-a5deb80de2f3",
   "metadata": {},
   "source": [
    "### Adding the data\n",
    "Next we add the data.  \n",
    "Here we customize the levels on both plots. We will also remove the default colorbar and labels, so in the next step we can add our own."
   ]
  },
  {
   "cell_type": "code",
   "execution_count": null,
   "id": "02f80f53-491a-41c3-aa36-8f3d24221cfe",
   "metadata": {},
   "outputs": [],
   "source": [
    "fig = plt.figure(figsize=(8, 6))\n",
    "ax = fig.add_subplot(1, 1, 1, projection=ccrs.PlateCarree())\n",
    "\n",
    "ax.set_extent([xmin, xmax, ymin, ymax], crs=ccrs.PlateCarree())\n",
    "\n",
    "ax.stock_img()\n",
    "#----------- New code to plot the data -----------#\n",
    "# Plot CDI data\n",
    "cmap = mpl.colors.ListedColormap([\"#ffffff\", \"#f0e442\", \"#f5aa00\", \"#dc050c\",\"#0072b2\",\"#cc79a7\",\"#009e73\", \"#c8c8c8\"])\n",
    "c = catalonia_cdi.cdinx.plot(ax=ax, cmap=cmap, vmin=-0.5, vmax=7.5, add_colorbar=False, add_labels=False)\n",
    "\n",
    "#Plot the population\n",
    "p_levels = [ 1000, 2500, 5000, 10000, 15000, 20000, 25000, 30000, 35000, 40000]\n",
    "p = catalonia_population.plot(ax=ax, cmap=plt.cm.BuGn, levels=p_levels, extend='max', add_colorbar=False, add_labels=False)"
   ]
  },
  {
   "cell_type": "markdown",
   "id": "90c82871-478c-4e63-834f-d17d035a120e",
   "metadata": {},
   "source": [
    "### Adding the geographical features\n",
    "Next we add the gridlines, coastlines, rivers and country borders."
   ]
  },
  {
   "cell_type": "code",
   "execution_count": null,
   "id": "16364fa0-04ba-4a22-90d4-590d5551de19",
   "metadata": {},
   "outputs": [],
   "source": [
    "fig = plt.figure(figsize=(8, 6))\n",
    "ax = fig.add_subplot(1, 1, 1, projection=ccrs.PlateCarree())\n",
    "\n",
    "ax.set_extent([xmin, xmax, ymin, ymax], crs=ccrs.PlateCarree())\n",
    "\n",
    "ax.stock_img()\n",
    "\n",
    "# Plot CDI data\n",
    "cmap = mpl.colors.ListedColormap([\"#ffffff\", \"#f0e442\", \"#f5aa00\", \"#dc050c\",\"#0072b2\",\"#cc79a7\",\"#009e73\", \"#c8c8c8\"])\n",
    "c = catalonia_cdi.cdinx.plot(ax=ax, cmap=cmap, vmin=-0.5, vmax=7.5, add_colorbar=False, add_labels=False)\n",
    "\n",
    "#Plot the population\n",
    "p_levels = [ 1000, 2500, 5000, 10000, 15000, 20000, 25000, 30000, 35000, 40000]\n",
    "p = catalonia_population.plot(ax=ax, cmap=plt.cm.BuGn, levels=p_levels, extend='max', add_colorbar=False, add_labels=False)\n",
    "\n",
    "#----------- New code to customize gridlines -----------#\n",
    "\n",
    "gridlines = p.axes.gridlines(draw_labels=True, dms=False, xlocs=[0, 2, 4], ylocs=[40, 42])\n",
    "ax.add_feature(cfeature.BORDERS)\n",
    "ax.add_feature(cfeature.COASTLINE)\n",
    "ax.add_feature(cfeature.RIVERS)"
   ]
  },
  {
   "cell_type": "markdown",
   "id": "8e49ef6c-af34-4be9-8fab-f7868ecb6d03",
   "metadata": {},
   "source": [
    "### Adding the title\n",
    "Then we add the title. "
   ]
  },
  {
   "cell_type": "code",
   "execution_count": null,
   "id": "2def4ac2-4588-4a14-a7cf-e7ba9e644119",
   "metadata": {},
   "outputs": [],
   "source": [
    "fig = plt.figure(figsize=(8, 6))\n",
    "ax = fig.add_subplot(1, 1, 1, projection=ccrs.PlateCarree())\n",
    "\n",
    "ax.set_extent([xmin, xmax, ymin, ymax], crs=ccrs.PlateCarree())\n",
    "\n",
    "ax.stock_img()\n",
    "\n",
    "# Plot CDI data\n",
    "cmap = mpl.colors.ListedColormap([\"#ffffff\", \"#f0e442\", \"#f5aa00\", \"#dc050c\",\"#0072b2\",\"#cc79a7\",\"#009e73\", \"#c8c8c8\"])\n",
    "c = catalonia_cdi.cdinx.plot(ax=ax, cmap=cmap, vmin=-0.5, vmax=7.5, add_colorbar=False, add_labels=False)\n",
    "\n",
    "#Plot the population\n",
    "p_levels = [ 1000, 2500, 5000, 10000, 15000, 20000, 25000, 30000, 35000, 40000]\n",
    "p = catalonia_population.plot(ax=ax, cmap=plt.cm.BuGn, levels=p_levels, extend='max', add_colorbar=False, add_labels=False)\n",
    "\n",
    "# Customize gridlines\n",
    "gridlines = p.axes.gridlines(draw_labels=True, dms=False, xlocs=[0, 2, 4], ylocs=[40, 42])\n",
    "ax.add_feature(cfeature.BORDERS)\n",
    "ax.add_feature(cfeature.COASTLINE)\n",
    "ax.add_feature(cfeature.RIVERS)\n",
    "\n",
    "#----------- New code to add the title -----------#\n",
    "\n",
    "plt.title('The Combined Drought Indicator and Population number', loc = \"left\")"
   ]
  },
  {
   "cell_type": "markdown",
   "id": "e2349673-9b6e-48ae-bfcf-862f7a185dbe",
   "metadata": {},
   "source": [
    "### Adding the colorbar\n",
    "It is a little bit tricky to add colorbars to where we want them.  \n",
    "**cax_p** and **cax_c** variable define the positions and size of the colorbars. They get the default position and size of the colorbars and make them half as long and next to each other.  \n",
    "In the end we also make the tick labels smaller."
   ]
  },
  {
   "cell_type": "code",
   "execution_count": null,
   "id": "90d068d1-cf07-4dd9-b777-92397597446f",
   "metadata": {},
   "outputs": [],
   "source": [
    "fig = plt.figure(figsize=(8, 6))\n",
    "ax = fig.add_subplot(1, 1, 1, projection=ccrs.PlateCarree())\n",
    "\n",
    "ax.set_extent([xmin, xmax, ymin, ymax], crs=ccrs.PlateCarree())\n",
    "\n",
    "ax.stock_img()\n",
    "\n",
    "# Plot CDI data\n",
    "cmap = mpl.colors.ListedColormap([\"#ffffff\", \"#f0e442\", \"#f5aa00\", \"#dc050c\",\"#0072b2\",\"#cc79a7\",\"#009e73\", \"#c8c8c8\"])\n",
    "c = catalonia_cdi.cdinx.plot(ax=ax, cmap=cmap, vmin=-0.5, vmax=7.5, add_colorbar=False, add_labels=False)\n",
    "\n",
    "#Plot the population\n",
    "p_levels = [ 1000, 2500, 5000, 10000, 15000, 20000, 25000, 30000, 35000, 40000]\n",
    "p = catalonia_population.plot(ax=ax, cmap=plt.cm.BuGn, levels=p_levels, extend='max', add_colorbar=False, add_labels=False)\n",
    "\n",
    "\n",
    "\n",
    "# Customize gridlines\n",
    "gridlines = p.axes.gridlines(draw_labels=True, dms=False, xlocs=[0, 2, 4], ylocs=[40, 42])\n",
    "ax.add_feature(cfeature.BORDERS)\n",
    "ax.add_feature(cfeature.COASTLINE)\n",
    "ax.add_feature(cfeature.RIVERS)\n",
    "\n",
    "plt.title('The Combined Drought Indicator and Population number', loc = \"left\")\n",
    "\n",
    "#----------- New code to add the horizontal colorbars -----------#\n",
    "\n",
    "cax_p = fig.add_axes([ax.get_position().x0,\n",
    "                    ax.get_position().y0-0.03,\n",
    "                    ax.get_position().width,\n",
    "                    0.02])\n",
    "cbar_p = plt.colorbar(p, orientation=\"horizontal\", cax=cax_p, ticks=[1000, 5000, 15000, 25000, 35000])\n",
    "cbar_p.ax.tick_params(labelsize=8)\n",
    "\n",
    "# CDI colorbar\n",
    "cax_c = fig.add_axes([ax.get_position().x0,\n",
    "                    ax.get_position().y0,\n",
    "                    ax.get_position().width,\n",
    "                    0.08])\n",
    "cbar_c = plt.colorbar(c, orientation=\"horizontal\", cax=cax_c)\n",
    "cbar_c.ax.get_xaxis().set_ticks([])\n",
    "for j, lab in enumerate(['No drought', 'Watch:\\n rainfall\\n deficit', 'Warning:\\n soil moisture\\n deficit', 'Alert','Recovery','Temporary\\n soil moisture\\n recovery','Temporary\\n fAPAR\\n recovery','No data']):\n",
    "    cbar_c.ax.text(j, .5, lab, ha='center', va='center', size=8.5)"
   ]
  },
  {
   "cell_type": "markdown",
   "id": "611ce64e-b514-4f21-a45a-7ab605f78c62",
   "metadata": {},
   "source": [
    "### Adding the custom text label\n",
    "\n",
    "Finally we can add the label for Barcelona."
   ]
  },
  {
   "cell_type": "code",
   "execution_count": null,
   "id": "517f4c17-3fb0-4994-8039-7f49763ad708",
   "metadata": {},
   "outputs": [],
   "source": [
    "fig = plt.figure(figsize=(8, 6))\n",
    "ax = fig.add_subplot(1, 1, 1, projection=ccrs.PlateCarree())\n",
    "\n",
    "ax.set_extent([xmin, xmax, ymin, ymax], crs=ccrs.PlateCarree())\n",
    "\n",
    "ax.stock_img()\n",
    "\n",
    "# Plot CDI data\n",
    "cmap = mpl.colors.ListedColormap([\"#ffffff\", \"#f0e442\", \"#f5aa00\", \"#dc050c\",\"#0072b2\",\"#cc79a7\",\"#009e73\", \"#c8c8c8\"])\n",
    "c = catalonia_cdi.cdinx.plot(ax=ax, cmap=cmap, vmin=-0.5, vmax=7.5, add_colorbar=False, add_labels=False)\n",
    "\n",
    "#Plot the population\n",
    "p_levels = [ 1000, 2500, 5000, 10000, 15000, 20000, 25000, 30000, 35000, 40000]\n",
    "p = catalonia_population.plot(ax=ax, cmap=plt.cm.BuGn, levels=p_levels, extend='max', add_colorbar=False, add_labels=False)\n",
    "\n",
    "\n",
    "\n",
    "# Customize gridlines\n",
    "gridlines = p.axes.gridlines(draw_labels=True, dms=False, xlocs=[0, 2, 4], ylocs=[40, 42])\n",
    "ax.add_feature(cfeature.BORDERS)\n",
    "ax.add_feature(cfeature.COASTLINE)\n",
    "ax.add_feature(cfeature.RIVERS)\n",
    "\n",
    "plt.title('The Combined Drought Indicator and Population number', loc = \"left\")\n",
    "\n",
    "cax_p = fig.add_axes([ax.get_position().x0,\n",
    "                    ax.get_position().y0-0.03,\n",
    "                    ax.get_position().width,\n",
    "                    0.02])\n",
    "cbar_p = plt.colorbar(p, orientation=\"horizontal\", cax=cax_p, ticks=[1000, 5000, 15000, 25000, 35000])\n",
    "cbar_p.ax.tick_params(labelsize=8)\n",
    "\n",
    "# CDI colorbar\n",
    "cax_c = fig.add_axes([ax.get_position().x0,\n",
    "                    ax.get_position().y0,\n",
    "                    ax.get_position().width,\n",
    "                    0.08])\n",
    "cbar_c = plt.colorbar(c, orientation=\"horizontal\", cax=cax_c)\n",
    "cbar_c.ax.get_xaxis().set_ticks([])\n",
    "for j, lab in enumerate(['No drought', 'Watch:\\n rainfall\\n deficit', 'Warning:\\n soil moisture\\n deficit', 'Alert','Recovery','Temporary\\n soil moisture\\n recovery','Temporary\\n fAPAR\\n recovery','No data']):\n",
    "    cbar_c.ax.text(j, .5, lab, ha='center', va='center', size=8.5)\n",
    "\n",
    "#----------- New code to add the text annotation -----------#\n",
    "\n",
    "barcelona_lon, barcelona_lat = 2.1686, 41.3874\n",
    "text_kwargs = dict(fontsize=12, color='#000032', transform=ccrs.PlateCarree())\n",
    "p.axes.text(barcelona_lon, barcelona_lat, '+ Barcelona', horizontalalignment='left', **text_kwargs)"
   ]
  },
  {
   "cell_type": "code",
   "execution_count": null,
   "id": "ad9dcb1e-11cb-4e0d-abb1-792e11f9e2fa",
   "metadata": {},
   "outputs": [],
   "source": []
  },
  {
   "cell_type": "code",
   "execution_count": null,
   "id": "623b52c8-4422-4e92-8844-79971e4a313e",
   "metadata": {},
   "outputs": [],
   "source": []
  },
  {
   "cell_type": "code",
   "execution_count": null,
   "id": "ddef488e-f968-4692-959a-9562b56fc8ff",
   "metadata": {},
   "outputs": [],
   "source": []
  }
 ],
 "metadata": {
  "kernelspec": {
   "display_name": "Python 3 (ipykernel)",
   "language": "python",
   "name": "python3"
  },
  "language_info": {
   "codemirror_mode": {
    "name": "ipython",
    "version": 3
   },
   "file_extension": ".py",
   "mimetype": "text/x-python",
   "name": "python",
   "nbconvert_exporter": "python",
   "pygments_lexer": "ipython3",
   "version": "3.10.9"
  }
 },
 "nbformat": 4,
 "nbformat_minor": 5
}
